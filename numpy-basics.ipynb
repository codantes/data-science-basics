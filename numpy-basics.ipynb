{
 "cells": [
  {
   "cell_type": "code",
   "execution_count": 1,
   "metadata": {},
   "outputs": [
    {
     "name": "stdout",
     "output_type": "stream",
     "text": [
      "Requirement already satisfied: numpy in c:\\users\\pranav\\anaconda3\\envs\\tensor\\lib\\site-packages (1.24.0)\n"
     ]
    }
   ],
   "source": [
    "%pip install numpy"
   ]
  },
  {
   "cell_type": "code",
   "execution_count": 2,
   "metadata": {},
   "outputs": [],
   "source": [
    "import numpy as np "
   ]
  },
  {
   "cell_type": "code",
   "execution_count": 58,
   "metadata": {},
   "outputs": [],
   "source": [
    "data = np.random.rand(2, 3, 4)\n",
    "zerosArr = np.zeros((2,2,2))\n",
    "fullArr = np.full((3,3,3), 7)\n",
    "onesArr = np.ones((1,3,1))"
   ]
  },
  {
   "cell_type": "code",
   "execution_count": 22,
   "metadata": {},
   "outputs": [],
   "source": [
    "customArr = np.array([[1,2,3], [1,3,4]])"
   ]
  },
  {
   "cell_type": "code",
   "execution_count": null,
   "metadata": {},
   "outputs": [],
   "source": [
    "shapes = data.shape\n",
    "sizes = data.size\n",
    "types = data.dtype"
   ]
  },
  {
   "cell_type": "code",
   "execution_count": 37,
   "metadata": {},
   "outputs": [
    {
     "data": {
      "text/plain": [
       "array([[0.98357002, 0.95717489, 0.45250011, 0.78027868, 0.64725336],\n",
       "       [0.93512518, 0.56264443, 0.67706024, 0.71220257, 0.18801653],\n",
       "       [0.48684638, 0.66663019, 0.48368027, 0.22341805, 0.15025418]])"
      ]
     },
     "execution_count": 37,
     "metadata": {},
     "output_type": "execute_result"
    }
   ],
   "source": [
    "arr = data[0]\n",
    "slicer = data[0][0][0:2]\n",
    "reverse = data[-1]\n",
    "reverse"
   ]
  },
  {
   "cell_type": "code",
   "execution_count": 45,
   "metadata": {},
   "outputs": [
    {
     "data": {
      "text/plain": [
       "array([0.54425785, 0.68633988, 0.12258367, 0.15030398, 0.60903438,\n",
       "       0.85853563, 0.84936355, 0.84432531, 0.78824473, 0.40580298])"
      ]
     },
     "execution_count": 45,
     "metadata": {},
     "output_type": "execute_result"
    }
   ],
   "source": [
    "list1 = np.random.rand(10)\n",
    "list2 = np.random.rand(10)\n",
    "\n",
    "dot = np.dot(list1, list2)\n",
    "list1"
   ]
  },
  {
   "cell_type": "code",
   "execution_count": 44,
   "metadata": {},
   "outputs": [
    {
     "data": {
      "text/plain": [
       "array([0.0241246 , 0.22147239, 0.4819405 , 0.65797381, 0.68150002,\n",
       "       0.70359779, 0.8054375 , 0.87039949, 0.92659941, 0.95529329])"
      ]
     },
     "execution_count": 44,
     "metadata": {},
     "output_type": "execute_result"
    }
   ],
   "source": [
    "sorted = np.sort(list1)\n",
    "sorted"
   ]
  },
  {
   "cell_type": "code",
   "execution_count": 61,
   "metadata": {},
   "outputs": [
    {
     "data": {
      "text/plain": [
       "array([[[0.05187426, 0.83167993, 0.63174539, 0.681664  ],\n",
       "        [0.52299455, 0.13998688, 0.48775163, 0.97109632],\n",
       "        [0.58196397, 0.00632453, 0.55279823, 0.59960638]],\n",
       "\n",
       "       [[0.4255748 , 0.1519866 , 0.88587991, 0.39995411],\n",
       "        [0.42151114, 0.92437287, 0.19434708, 0.69849964],\n",
       "        [0.12012308, 0.73793695, 0.88770481, 0.19313936]]])"
      ]
     },
     "execution_count": 61,
     "metadata": {},
     "output_type": "execute_result"
    }
   ],
   "source": [
    "data = data.reshape(2,3,-1)\n",
    "data"
   ]
  }
 ],
 "metadata": {
  "kernelspec": {
   "display_name": "tensor",
   "language": "python",
   "name": "python3"
  },
  "language_info": {
   "codemirror_mode": {
    "name": "ipython",
    "version": 3
   },
   "file_extension": ".py",
   "mimetype": "text/x-python",
   "name": "python",
   "nbconvert_exporter": "python",
   "pygments_lexer": "ipython3",
   "version": "3.9.15"
  },
  "orig_nbformat": 4,
  "vscode": {
   "interpreter": {
    "hash": "f232e6a39610c352e8c942cdb114271f1cc7c4ba4cd4cf85a82f0048635825dd"
   }
  }
 },
 "nbformat": 4,
 "nbformat_minor": 2
}
